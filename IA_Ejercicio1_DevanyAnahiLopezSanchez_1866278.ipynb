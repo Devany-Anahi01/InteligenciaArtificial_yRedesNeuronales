{
  "nbformat": 4,
  "nbformat_minor": 0,
  "metadata": {
    "colab": {
      "provenance": [],
      "authorship_tag": "ABX9TyPqIF8RnN7g+nau1DNQtgjW",
      "include_colab_link": true
    },
    "kernelspec": {
      "name": "python3",
      "display_name": "Python 3"
    },
    "language_info": {
      "name": "python"
    }
  },
  "cells": [
    {
      "cell_type": "markdown",
      "metadata": {
        "id": "view-in-github",
        "colab_type": "text"
      },
      "source": [
        "<a href=\"https://colab.research.google.com/github/Devany-Anahi01/InteligenciaArtificial_yRedesNeuronales/blob/main/IA_Ejercicio1_DevanyAnahiLopezSanchez_1866278.ipynb\" target=\"_parent\"><img src=\"https://colab.research.google.com/assets/colab-badge.svg\" alt=\"Open In Colab\"/></a>"
      ]
    },
    {
      "cell_type": "code",
      "execution_count": null,
      "metadata": {
        "id": "5fY0qEYjZFXc"
      },
      "outputs": [],
      "source": []
    },
    {
      "cell_type": "markdown",
      "source": [
        "A2 Ejercicios en Python 1 Devany Anahi Lopez Sanchez 1866278 N1"
      ],
      "metadata": {
        "id": "ZSKvQmISaA6c"
      }
    },
    {
      "cell_type": "code",
      "source": [
        "import sys\n",
        "usuario=input(\"ingrese su nombre:\")\n",
        "if usuario=='Juan'or usuario== 'Ana' or usuario== 'Pedro':\n",
        "  exit()\n",
        "else:\n",
        "    print(\"Hola\"+usuario)"
      ],
      "metadata": {
        "colab": {
          "base_uri": "https://localhost:8080/"
        },
        "id": "QpPlN-2Vb8mG",
        "outputId": "5a410c33-b320-458e-862b-6bda9f366097"
      },
      "execution_count": null,
      "outputs": [
        {
          "output_type": "stream",
          "name": "stdout",
          "text": [
            "ingrese su nombre:Deby\n",
            "HolaDeby\n"
          ]
        }
      ]
    },
    {
      "cell_type": "code",
      "source": [],
      "metadata": {
        "id": "oaz3K7ungg-Z"
      },
      "execution_count": null,
      "outputs": []
    },
    {
      "cell_type": "code",
      "source": [
        "lista=[\"Hola\",\"a\",\"todos\",\"esto\",\"es\",\"un\",\"marco\"]\n",
        "print(\"**********\")\n",
        "for i in range(len(lista)):\n",
        "  print(\"*{}*\" .format(lista[i]))\n",
        "  print(\"**********\")"
      ],
      "metadata": {
        "colab": {
          "base_uri": "https://localhost:8080/"
        },
        "id": "rLrqyUw-phDb",
        "outputId": "9cabfb5b-f1c5-4cdb-9971-6b3d8439f13f"
      },
      "execution_count": null,
      "outputs": [
        {
          "output_type": "stream",
          "name": "stdout",
          "text": [
            "**********\n",
            "*Hola*\n",
            "**********\n",
            "*a*\n",
            "**********\n",
            "*todos*\n",
            "**********\n",
            "*esto*\n",
            "**********\n",
            "*es*\n",
            "**********\n",
            "*un*\n",
            "**********\n",
            "*marco*\n",
            "**********\n"
          ]
        }
      ]
    },
    {
      "cell_type": "code",
      "source": [
        "import sys\n",
        "lista=['got7','bts','straykidz','nct']\n",
        "ultimo_elemento=lista[-1]\n",
        "print(\"ultimo elemento:\", ultimo_elemento)\n",
        "lista.reverse()\n",
        "print(\"lista invertida\", lista)"
      ],
      "metadata": {
        "colab": {
          "base_uri": "https://localhost:8080/"
        },
        "id": "AEqqMLiLdOC9",
        "outputId": "efdcdd10-e0cc-4a09-a877-4ac39784cdbe"
      },
      "execution_count": null,
      "outputs": [
        {
          "output_type": "stream",
          "name": "stdout",
          "text": [
            "ultimo elemento: nct\n",
            "lista invertida ['nct', 'straykidz', 'bts', 'got7']\n"
          ]
        }
      ]
    }
  ]
}